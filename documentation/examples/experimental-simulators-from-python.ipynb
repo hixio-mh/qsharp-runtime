{
 "cells": [
  {
   "cell_type": "markdown",
   "id": "a21769ec",
   "metadata": {},
   "source": [
    "# Using Experimental Simulators with Q# and Python"
   ]
  },
  {
   "cell_type": "markdown",
   "id": "a7510c5c",
   "metadata": {},
   "source": [
    "The experimental simulators use the [QuTiP](https://qutip.org) library for Python to help represent noise models, so we import it here."
   ]
  },
  {
   "cell_type": "code",
   "execution_count": 1,
   "id": "7430263c",
   "metadata": {},
   "outputs": [],
   "source": [
    "import qutip as qt"
   ]
  },
  {
   "cell_type": "markdown",
   "id": "67abc680",
   "metadata": {},
   "source": [
    "To use the experimental simulators, we start by importing Q# interoperability as normal."
   ]
  },
  {
   "cell_type": "code",
   "execution_count": 2,
   "id": "00c0728f",
   "metadata": {},
   "outputs": [
    {
     "name": "stdout",
     "output_type": "stream",
     "text": [
      "Preparing Q# environment...\n"
     ]
    }
   ],
   "source": [
    "import qsharp"
   ]
  },
  {
   "cell_type": "markdown",
   "id": "a83cdd60",
   "metadata": {},
   "source": [
    "We can then use `qsharp.experimental.enable_noisy_simulation()` to add support for experimental simulators."
   ]
  },
  {
   "cell_type": "code",
   "execution_count": 3,
   "id": "ad41d44b",
   "metadata": {},
   "outputs": [],
   "source": [
    "import qsharp.experimental\n",
    "qsharp.experimental.enable_noisy_simulation()"
   ]
  },
  {
   "cell_type": "markdown",
   "id": "03daa4e4",
   "metadata": {},
   "source": [
    "Doing so adds the `.simulate_noise` method to Python representations of Q# callables:"
   ]
  },
  {
   "cell_type": "code",
   "execution_count": 4,
   "id": "7cc8011b",
   "metadata": {},
   "outputs": [],
   "source": [
    "dump_plus = qsharp.compile(\"\"\"\n",
    "    operation DumpPlus() : Unit {\n",
    "        use q = Qubit();\n",
    "        H(q);\n",
    "        Microsoft.Quantum.Diagnostics.DumpMachine();\n",
    "        X(q);\n",
    "        Reset(q);\n",
    "    }\n",
    "\"\"\")"
   ]
  },
  {
   "cell_type": "code",
   "execution_count": 5,
   "id": "a7cb1504",
   "metadata": {},
   "outputs": [
    {
     "data": {
      "application/json": "{\"Data\":[0.5000000000000001,0.0,0.0,0.0,0.0,0.0,0.0,0.0,0.5000000000000001,0.0,0.0,0.0,0.0,0.0,0.0,0.0,0.0,0.0,0.0,0.0,0.0,0.0,0.0,0.0,0.0,0.0,0.0,0.0,0.0,0.0,0.0,0.0,0.0,0.0,0.0,0.0,0.0,0.0,0.0,0.0,0.0,0.0,0.0,0.0,0.0,0.0,0.0,0.0,0.0,0.0,0.0,0.0,0.0,0.0,0.0,0.0,0.0,0.0,0.0,0.0,0.0,0.0,0.0,0.0,0.5000000000000001,0.0,0.0,0.0,0.0,0.0,0.0,0.0,0.5000000000000001,0.0,0.0,0.0,0.0,0.0,0.0,0.0,0.0,0.0,0.0,0.0,0.0,0.0,0.0,0.0,0.0,0.0,0.0,0.0,0.0,0.0,0.0,0.0,0.0,0.0,0.0,0.0,0.0,0.0,0.0,0.0,0.0,0.0,0.0,0.0,0.0,0.0,0.0,0.0,0.0,0.0,0.0,0.0,0.0,0.0,0.0,0.0,0.0,0.0,0.0,0.0,0.0,0.0,0.0,0.0],\"NQubits\":3}",
      "text/html": [
       "\r\n",
       "                    <table>\r\n",
       "                        <caption>Mixed state</caption>\r\n",
       "                        <tr>\r\n",
       "                            <th># of qubits</th>\r\n",
       "                            <td>3</td>\r\n",
       "                        </tr>\r\n",
       "\r\n",
       "                        <tr>\r\n",
       "                            <th>State data</th>\r\n",
       "                            <td>\r\n",
       "                                $$\r\n",
       "                                \\left(\r\n",
       "                                    \\begin{matrix}\r\n",
       "                                        0.5000000000000001 + 0 i & 0 + 0 i & 0 + 0 i & 0 + 0 i & 0.5000000000000001 + 0 i & 0 + 0 i & 0 + 0 i & 0 + 0 i\\\\\n",
       "0 + 0 i & 0 + 0 i & 0 + 0 i & 0 + 0 i & 0 + 0 i & 0 + 0 i & 0 + 0 i & 0 + 0 i\\\\\n",
       "0 + 0 i & 0 + 0 i & 0 + 0 i & 0 + 0 i & 0 + 0 i & 0 + 0 i & 0 + 0 i & 0 + 0 i\\\\\n",
       "0 + 0 i & 0 + 0 i & 0 + 0 i & 0 + 0 i & 0 + 0 i & 0 + 0 i & 0 + 0 i & 0 + 0 i\\\\\n",
       "0.5000000000000001 + 0 i & 0 + 0 i & 0 + 0 i & 0 + 0 i & 0.5000000000000001 + 0 i & 0 + 0 i & 0 + 0 i & 0 + 0 i\\\\\n",
       "0 + 0 i & 0 + 0 i & 0 + 0 i & 0 + 0 i & 0 + 0 i & 0 + 0 i & 0 + 0 i & 0 + 0 i\\\\\n",
       "0 + 0 i & 0 + 0 i & 0 + 0 i & 0 + 0 i & 0 + 0 i & 0 + 0 i & 0 + 0 i & 0 + 0 i\\\\\n",
       "0 + 0 i & 0 + 0 i & 0 + 0 i & 0 + 0 i & 0 + 0 i & 0 + 0 i & 0 + 0 i & 0 + 0 i\r\n",
       "                                    \\end{matrix}\r\n",
       "                                \\right)\r\n",
       "                                $$\r\n",
       "                            </td>\r\n",
       "                        </tr>\r\n",
       "                    </table>\r\n",
       "                "
      ],
      "text/plain": [
       "Mixed state on 3 qubits: [ [0.5000000000000001 + 0 i, 0 + 0 i, 0 + 0 i, 0 + 0 i, 0.5000000000000001 + 0 i, 0 + 0 i, 0 + 0 i, 0 + 0 i] [0 + 0 i, 0 + 0 i, 0 + 0 i, 0 + 0 i, 0 + 0 i, 0 + 0 i, 0 + 0 i, 0 + 0 i] [0 + 0 i, 0 + 0 i, 0 + 0 i, 0 + 0 i, 0 + 0 i, 0 + 0 i, 0 + 0 i, 0 + 0 i] [0 + 0 i, 0 + 0 i, 0 + 0 i, 0 + 0 i, 0 + 0 i, 0 + 0 i, 0 + 0 i, 0 + 0 i] [0.5000000000000001 + 0 i, 0 + 0 i, 0 + 0 i, 0 + 0 i, 0.5000000000000001 + 0 i, 0 + 0 i, 0 + 0 i, 0 + 0 i] [0 + 0 i, 0 + 0 i, 0 + 0 i, 0 + 0 i, 0 + 0 i, 0 + 0 i, 0 + 0 i, 0 + 0 i] [0 + 0 i, 0 + 0 i, 0 + 0 i, 0 + 0 i, 0 + 0 i, 0 + 0 i, 0 + 0 i, 0 + 0 i] [0 + 0 i, 0 + 0 i, 0 + 0 i, 0 + 0 i, 0 + 0 i, 0 + 0 i, 0 + 0 i, 0 + 0 i] ]"
      ]
     },
     "metadata": {},
     "output_type": "display_data"
    },
    {
     "data": {
      "text/plain": [
       "()"
      ]
     },
     "execution_count": 5,
     "metadata": {},
     "output_type": "execute_result"
    }
   ],
   "source": [
    "dump_plus.simulate_noise()"
   ]
  },
  {
   "cell_type": "markdown",
   "id": "9e1fd1cd",
   "metadata": {},
   "source": [
    "## Configuring Open Systems Noise Models"
   ]
  },
  {
   "cell_type": "markdown",
   "id": "9aa83aef",
   "metadata": {},
   "source": [
    "The experimental simulators can be configured by the use of the `qsharp.config` object. For example, to change the size of the register used, we can modify the `opensim.nQubits` configuration setting:"
   ]
  },
  {
   "cell_type": "code",
   "execution_count": 6,
   "id": "865fa045",
   "metadata": {},
   "outputs": [],
   "source": [
    "qsharp.config['opensim.nQubits'] = 1"
   ]
  },
  {
   "cell_type": "code",
   "execution_count": 7,
   "id": "ff5b88d7",
   "metadata": {},
   "outputs": [
    {
     "data": {
      "application/json": "{\"Data\":[0.5000000000000001,0.0,0.5000000000000001,0.0,0.5000000000000001,0.0,0.5000000000000001,0.0],\"NQubits\":1}",
      "text/html": [
       "\r\n",
       "                    <table>\r\n",
       "                        <caption>Mixed state</caption>\r\n",
       "                        <tr>\r\n",
       "                            <th># of qubits</th>\r\n",
       "                            <td>1</td>\r\n",
       "                        </tr>\r\n",
       "\r\n",
       "                        <tr>\r\n",
       "                            <th>State data</th>\r\n",
       "                            <td>\r\n",
       "                                $$\r\n",
       "                                \\left(\r\n",
       "                                    \\begin{matrix}\r\n",
       "                                        0.5000000000000001 + 0 i & 0.5000000000000001 + 0 i\\\\\n",
       "0.5000000000000001 + 0 i & 0.5000000000000001 + 0 i\r\n",
       "                                    \\end{matrix}\r\n",
       "                                \\right)\r\n",
       "                                $$\r\n",
       "                            </td>\r\n",
       "                        </tr>\r\n",
       "                    </table>\r\n",
       "                "
      ],
      "text/plain": [
       "Mixed state on 1 qubits: [ [0.5000000000000001 + 0 i, 0.5000000000000001 + 0 i] [0.5000000000000001 + 0 i, 0.5000000000000001 + 0 i] ]"
      ]
     },
     "metadata": {},
     "output_type": "display_data"
    },
    {
     "data": {
      "text/plain": [
       "()"
      ]
     },
     "execution_count": 7,
     "metadata": {},
     "output_type": "execute_result"
    }
   ],
   "source": [
    "dump_plus.simulate_noise()"
   ]
  },
  {
   "cell_type": "markdown",
   "id": "436a1534",
   "metadata": {},
   "source": [
    "We can modify the noise model used in simulating Q# programs by using several functions in the `qsharp.experimental` module. For instance, to initialize the noise model to an ideal model (that is, with no noise), we can use `set_noise_model_by_name`:"
   ]
  },
  {
   "cell_type": "code",
   "execution_count": 8,
   "id": "4cfc0e13",
   "metadata": {},
   "outputs": [],
   "source": [
    "qsharp.experimental.set_noise_model_by_name('ideal')"
   ]
  },
  {
   "cell_type": "markdown",
   "id": "fab9fb78",
   "metadata": {},
   "source": [
    "We can then access the noise model by using `get_noise_model`:"
   ]
  },
  {
   "cell_type": "code",
   "execution_count": 9,
   "id": "422a7ee2",
   "metadata": {},
   "outputs": [],
   "source": [
    "noise_model = qsharp.experimental.get_noise_model()"
   ]
  },
  {
   "cell_type": "markdown",
   "id": "c3dba96a",
   "metadata": {},
   "source": [
    "This noise model is represented as a Python dictionary from preparations, measurements, and gates to Python objects representing the noise in each. For example, in the ideal noise model, the `Microsoft.Quantum.Intrinsic.H` operation is simulated by a unitary matrix:"
   ]
  },
  {
   "cell_type": "code",
   "execution_count": 10,
   "id": "a2774610",
   "metadata": {},
   "outputs": [
    {
     "data": {
      "text/latex": [
       "Quantum object: dims = [[2], [2]], shape = (2, 2), type = oper, isherm = True\\begin{equation*}\\left(\\begin{array}{*{11}c}0.707 & 0.707\\\\0.707 & -0.707\\\\\\end{array}\\right)\\end{equation*}"
      ],
      "text/plain": [
       "Quantum object: dims = [[2], [2]], shape = (2, 2), type = oper, isherm = True\n",
       "Qobj data =\n",
       "[[ 0.70710678  0.70710678]\n",
       " [ 0.70710678 -0.70710678]]"
      ]
     },
     "execution_count": 10,
     "metadata": {},
     "output_type": "execute_result"
    }
   ],
   "source": [
    "noise_model['h']"
   ]
  },
  {
   "cell_type": "markdown",
   "id": "81c5310c",
   "metadata": {},
   "source": [
    "We can modify this to add depolarizing noise using QuTiP functions to build a depolarizing noise channel:"
   ]
  },
  {
   "cell_type": "code",
   "execution_count": 11,
   "id": "b0a01d12",
   "metadata": {},
   "outputs": [],
   "source": [
    "I, X, Y, Z = [P.as_qobj() for P in qsharp.Pauli]"
   ]
  },
  {
   "cell_type": "code",
   "execution_count": 12,
   "id": "938accec",
   "metadata": {},
   "outputs": [],
   "source": [
    "def depolarizing_noise(p=1.0):\n",
    "    return p * qt.to_super(I) + ((1 - p) / 4) * sum(map(qt.to_super, [I, X, Y, Z]))"
   ]
  },
  {
   "cell_type": "code",
   "execution_count": 13,
   "id": "3add5aa9",
   "metadata": {},
   "outputs": [],
   "source": [
    "noise_model['h'] = depolarizing_noise(0.99) * qt.to_super(qt.qip.operations.hadamard_transform())"
   ]
  },
  {
   "cell_type": "markdown",
   "id": "b6dc2da9",
   "metadata": {},
   "source": [
    "Once we have modified our noise model in this way, we can set it as the active noise model used in simulating Q# programs:"
   ]
  },
  {
   "cell_type": "code",
   "execution_count": 14,
   "id": "23379c8b",
   "metadata": {},
   "outputs": [],
   "source": [
    "qsharp.experimental.set_noise_model(noise_model)"
   ]
  },
  {
   "cell_type": "markdown",
   "id": "05dbbef9",
   "metadata": {},
   "source": [
    "Using this model, we no longer get the exact $|+\\rangle\\langle+|$ state, but see that our Q# program has incurred some small error due to noise in the application of `Microsoft.Quantum.Intrinsic.H`:"
   ]
  },
  {
   "cell_type": "code",
   "execution_count": 15,
   "id": "f791e6f6",
   "metadata": {},
   "outputs": [
    {
     "data": {
      "application/json": "{\"Data\":[0.5032581095356969,0.0,0.4951069263733158,0.0,0.4951069263733158,0.0,0.49667422634133085,0.0],\"NQubits\":1}",
      "text/html": [
       "\r\n",
       "                    <table>\r\n",
       "                        <caption>Mixed state</caption>\r\n",
       "                        <tr>\r\n",
       "                            <th># of qubits</th>\r\n",
       "                            <td>1</td>\r\n",
       "                        </tr>\r\n",
       "\r\n",
       "                        <tr>\r\n",
       "                            <th>State data</th>\r\n",
       "                            <td>\r\n",
       "                                $$\r\n",
       "                                \\left(\r\n",
       "                                    \\begin{matrix}\r\n",
       "                                        0.5032581095356969 + 0 i & 0.4951069263733158 + 0 i\\\\\n",
       "0.4951069263733158 + 0 i & 0.49667422634133085 + 0 i\r\n",
       "                                    \\end{matrix}\r\n",
       "                                \\right)\r\n",
       "                                $$\r\n",
       "                            </td>\r\n",
       "                        </tr>\r\n",
       "                    </table>\r\n",
       "                "
      ],
      "text/plain": [
       "Mixed state on 1 qubits: [ [0.5032581095356969 + 0 i, 0.4951069263733158 + 0 i] [0.4951069263733158 + 0 i, 0.49667422634133085 + 0 i] ]"
      ]
     },
     "metadata": {},
     "output_type": "display_data"
    },
    {
     "data": {
      "text/plain": [
       "()"
      ]
     },
     "execution_count": 15,
     "metadata": {},
     "output_type": "execute_result"
    }
   ],
   "source": [
    "dump_plus.simulate_noise()"
   ]
  },
  {
   "cell_type": "markdown",
   "id": "94c70d54",
   "metadata": {},
   "source": [
    "## Configuring Stabilizer Noise Models"
   ]
  },
  {
   "cell_type": "markdown",
   "id": "05d1a8f5",
   "metadata": {},
   "source": [
    "We can also configure the experimental simulator to use stabilizer (_a.k.a._ CHP) simulation. This time, let's get a new noise model by using `get_noise_model_by_name`:"
   ]
  },
  {
   "cell_type": "code",
   "execution_count": 16,
   "id": "a02721e7",
   "metadata": {},
   "outputs": [
    {
     "data": {
      "text/plain": [
       "{'initial_state': {'n_qubits': 1,\n",
       "  'data': {'Stabilizer': array([[ True, False, False],\n",
       "          [False,  True, False]])}},\n",
       " 'cnot': {'n_qubits': 1, 'data': {'ChpDecomposition': [{'Cnot': [0, 1]}]}},\n",
       " 'i': {'n_qubits': 1, 'data': {'Sequence': []}},\n",
       " 's': {'n_qubits': 1, 'data': {'ChpDecomposition': [{'Phase': 0}]}},\n",
       " 's_adj': {'n_qubits': 1, 'data': {'ChpDecomposition': [{'AdjointPhase': 0}]}},\n",
       " 't': {'n_qubits': 1, 'data': 'Unsupported'},\n",
       " 't_adj': {'n_qubits': 1, 'data': 'Unsupported'},\n",
       " 'h': {'n_qubits': 1, 'data': {'ChpDecomposition': [{'Hadamard': 0}]}},\n",
       " 'x': {'n_qubits': 1,\n",
       "  'data': {'ChpDecomposition': [{'Hadamard': 0},\n",
       "    {'Phase': 0},\n",
       "    {'Phase': 0},\n",
       "    {'Hadamard': 0}]}},\n",
       " 'y': {'n_qubits': 1,\n",
       "  'data': {'ChpDecomposition': [{'AdjointPhase': 0},\n",
       "    {'Hadamard': 0},\n",
       "    {'Phase': 0},\n",
       "    {'Phase': 0},\n",
       "    {'Hadamard': 0},\n",
       "    {'Phase': 0}]}},\n",
       " 'z': {'n_qubits': 1,\n",
       "  'data': {'ChpDecomposition': [{'Phase': 0}, {'Phase': 0}]}},\n",
       " 'z_meas': {'pr_readout_error': 0}}"
      ]
     },
     "execution_count": 16,
     "metadata": {},
     "output_type": "execute_result"
    }
   ],
   "source": [
    "noise_model = qsharp.experimental.get_noise_model_by_name('ideal_stabilizer')\n",
    "noise_model"
   ]
  },
  {
   "cell_type": "code",
   "execution_count": 20,
   "id": "9f7791f6",
   "metadata": {},
   "outputs": [],
   "source": [
    "# TODO: not yet implemented for stabilizer models.\n",
    "# qsharp.experimental.set_noise_model(noise_model)"
   ]
  },
  {
   "cell_type": "code",
   "execution_count": 21,
   "id": "7794ba38",
   "metadata": {},
   "outputs": [],
   "source": [
    "qsharp.experimental.set_noise_model_by_name('ideal_stabilizer')"
   ]
  },
  {
   "cell_type": "code",
   "execution_count": 24,
   "id": "fe0142d8",
   "metadata": {},
   "outputs": [],
   "source": [
    "qsharp.config['opensim.representation'] = 'stabilizer'"
   ]
  },
  {
   "cell_type": "code",
   "execution_count": 25,
   "id": "4db703f8",
   "metadata": {},
   "outputs": [
    {
     "name": "stderr",
     "output_type": "stream",
     "text": [
      "Could not set noise model from JSON: Exception in native open systems simulator runtime: Data / schema error deserializing noise model at line 1, column 160.\n",
      "JSON data:\n",
      "{\"initial_state\":{\"n_qubits\":1,\"data\":{\"Stabilizer\":{\"v\":1,\"dim\":[2,3],\"data\":[true,false,false,false,true,false],\"AsArray\":[true,false,false,false,true,false]}}},\"cnot\":{\"n_qubits\":1,\"data\":{\"ChpDecomposition\":[{\"Cnot\":[0,1]}]}},\"i\":{\"n_qubits\":1,\"data\":{\"Sequence\":[]}},\"s\":{\"n_qubits\":1,\"data\":{\"ChpDecomposition\":[{\"Phase\":0}]}},\"s_adj\":{\"n_qubits\":1,\"data\":{\"ChpDecomposition\":[{\"AdjointPhase\":0}]}},\"t\":{\"n_qubits\":1,\"data\":\"Unsupported\"},\"t_adj\":{\"n_qubits\":1,\"data\":\"Unsupported\"},\"h\":{\"n_qubits\":1,\"data\":{\"ChpDecomposition\":[{\"Hadamard\":0}]}},\"x\":{\"n_qubits\":1,\"data\":{\"ChpDecomposition\":[{\"Hadamard\":0},{\"Phase\":0},{\"Phase\":0},{\"Hadamard\":0}]}},\"y\":{\"n_qubits\":1,\"data\":{\"ChpDecomposition\":[{\"AdjointPhase\":0},{\"Hadamard\":0},{\"Phase\":0},{\"Phase\":0},{\"Hadamard\":0},{\"Phase\":0}]}},\"z\":{\"n_qubits\":1,\"data\":{\"ChpDecomposition\":[{\"Phase\":0},{\"Phase\":0}]}},\"z_meas\":{\"pr_readout_error\":0}}\r\n"
     ]
    }
   ],
   "source": [
    "dump_plus.simulate_noise()"
   ]
  },
  {
   "cell_type": "markdown",
   "id": "a64c1a27",
   "metadata": {},
   "source": [
    "## Epilogue"
   ]
  },
  {
   "cell_type": "code",
   "execution_count": null,
   "id": "56168b7e",
   "metadata": {},
   "outputs": [],
   "source": [
    "qsharp.component_versions()"
   ]
  },
  {
   "cell_type": "code",
   "execution_count": null,
   "id": "85f8f2e8",
   "metadata": {},
   "outputs": [],
   "source": []
  }
 ],
 "metadata": {
  "kernelspec": {
   "display_name": "Python 3",
   "language": "python",
   "name": "python3"
  },
  "language_info": {
   "codemirror_mode": {
    "name": "ipython",
    "version": 3
   },
   "file_extension": ".py",
   "mimetype": "text/x-python",
   "name": "python",
   "nbconvert_exporter": "python",
   "pygments_lexer": "ipython3",
   "version": "3.8.10"
  }
 },
 "nbformat": 4,
 "nbformat_minor": 5
}
